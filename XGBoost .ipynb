{
 "cells": [
  {
   "cell_type": "code",
   "execution_count": null,
   "metadata": {},
   "outputs": [],
   "source": [
    "import pandas as pd\n",
    "import numpy as np \n",
    "import matplotlib.pyplot as plt\n",
    "import seaborn as sns \n",
    "color = sns.color_palette()\n",
    "import plotly.offline as py\n",
    "py.init_notebook_mode(connected=True)\n",
    "from plotly.offline import init_notebook_mode, iplot\n",
    "init_notebook_mode(connected=True)\n",
    "import plotly.graph_objs as go\n",
    "import plotly.offline as offline\n",
    "offline.init_notebook_mode()\n",
    "\n",
    "from sklearn.model_selection import train_test_split \n",
    "import lightgbm as lgb\n",
    "\n",
    "import cufflinks as cf\n",
    "cf.go_offline()\n",
    "\n",
    "import xgboost as xgb \n"
   ]
  },
  {
   "cell_type": "code",
   "execution_count": null,
   "metadata": {},
   "outputs": [],
   "source": [
    "#Load the tran and test dataframes \n",
    "application_train=\n",
    "application_test="
   ]
  },
  {
   "cell_type": "code",
   "execution_count": null,
   "metadata": {},
   "outputs": [],
   "source": [
    "#Features dataframe using train and test set \n",
    "def featuresDF(df_train,df_test,target):\n",
    "    training=df_train\n",
    "    testing=df_test\n",
    "\n",
    "    training['is_train']=1\n",
    "    training['is_test']=0\n",
    "    testing['is_train']=0\n",
    "    testing['is_test']=1\n",
    "    \n",
    "    train_X=training.drop([target],axis=1)\n",
    "    test_X=testing\n",
    "    data=pd.concat([train_X,test_X],axis=0)\n",
    "    return data\n",
    "data=featuresDF(application_train,application_test,\"Comment\")"
   ]
  },
  {
   "cell_type": "code",
   "execution_count": null,
   "metadata": {},
   "outputs": [],
   "source": [
    "#Target variable extraction \n",
    "def target(df_train,target):\n",
    "    training=df_train\n",
    "    Y=training[target]\n",
    "    return Y\n",
    "    \n",
    "Y=target(application_train,'TARGET')"
   ]
  },
  {
   "cell_type": "code",
   "execution_count": null,
   "metadata": {},
   "outputs": [],
   "source": [
    "#Missing values Analysis \n",
    "def missingValuesAnalysis(data):\n",
    "    total = data.isnull().sum().sort_values(ascending = False)\n",
    "    percent = (data.isnull().sum()/data.isnull().count()*100).sort_values(ascending = False)\n",
    "    return pd.concat([total, percent], axis=1, keys=['Total', 'Percent'])\n",
    "df=missingValuesAnalysis(application_train)"
   ]
  },
  {
   "cell_type": "code",
   "execution_count": null,
   "metadata": {},
   "outputs": [],
   "source": [
    "#Function to capture numerical variables \n",
    "def _get_numerical_features(df):\n",
    "    feats=[col for col in list(df.columns) if df[col].dtype!='object']\n",
    "    return feats \n",
    "numFeatures=_get_numerical_features(data)"
   ]
  },
  {
   "cell_type": "code",
   "execution_count": null,
   "metadata": {},
   "outputs": [],
   "source": [
    "#Function to capture categorical variables \n",
    "def _get_categorical_features(df):\n",
    "    feats=[col for col in list(df.columns) if df[col].dtype=='object']\n",
    "    return feats \n",
    "cats=_get_categorical_features(data)"
   ]
  },
  {
   "cell_type": "code",
   "execution_count": null,
   "metadata": {},
   "outputs": [],
   "source": [
    "#Function to factorize categorical variables \n",
    "def _factorize_categoricals(df, cats):\n",
    "    for col in cats:\n",
    "        df[col], _ = pd.factorize(df[col])\n",
    "    return df \n",
    "#data=_factorize_categoricals(data,cats)"
   ]
  },
  {
   "cell_type": "code",
   "execution_count": null,
   "metadata": {},
   "outputs": [],
   "source": [
    "#Function to convert categorical variables into dummy variables \n",
    "def _get_dummies(df,cats):\n",
    "    for col in cats:\n",
    "         df = pd.concat([df, pd.get_dummies(df[col], prefix=col)], axis=1)\n",
    "    return df\n",
    "#data=_get_dummies(data,cats)"
   ]
  },
  {
   "cell_type": "code",
   "execution_count": null,
   "metadata": {},
   "outputs": [],
   "source": [
    "#Doing factorize or dummy variable encoding \n",
    "def encoding(df,flag):\n",
    "    data_cats = _get_categorical_features(df)\n",
    "    if(flag==1):\n",
    "        df = _factorize_categoricals(df,data_cats)\n",
    "    else:\n",
    "        df=_get_dummies(df,data_cats)\n",
    "        df=df.drop(data_cats,axis=1)\n",
    "    return df\n",
    "data=encoding(data,0)"
   ]
  },
  {
   "cell_type": "code",
   "execution_count": null,
   "metadata": {},
   "outputs": [],
   "source": [
    "#Missing values handling since XGBOOST  cannot handle missing values internally \n",
    "data1=data.iloc[:,:].values #This only contain values (not headers) . Objective of this is to convet data frame into matrix\n",
    "#in order to aply imputation and standerdization. \n",
    "\n",
    "numInd=_get_numerical_features(data)\n",
    "catInd=_get_categorical_features(data)\n",
    "\n",
    "numImputer = Imputer(missing_values ='NaN', strategy='median', axis=0)\n",
    "numImputer= numImputer.fit(data1[:,(numInd)])\n",
    "data1[:,(numInd)]=numImputer.transform(data1[:,(numInd)])\n",
    "\n",
    "catImputer = Imputer(missing_values = 'NaN', strategy = 'most_frequent', axis =0)\n",
    "catImputer=catImputer.fit(data1[:,(catInd)])\n",
    "data1[:,(catInd)]=catImputer.transform(data1[:,(catInd)])\n",
    "\n",
    "#Standerdizing \n",
    "min_max_scaler = preprocessing.MinMaxScaler()\n",
    "data1[:,(numInd)] = min_max_scaler.fit_transform(data1[:,(numInd)])\n",
    "\n",
    "data=pd.DataFrame(data=data1[0:,0:],columns=data.columns.values)\n"
   ]
  },
  {
   "cell_type": "code",
   "execution_count": null,
   "metadata": {},
   "outputs": [],
   "source": [
    "#Splitting into train and test set \n",
    "ignoreFeatures = ['CUST_ID', 'is_train', 'is_test']\n",
    "importantFeatures = [col for col in data.columns if col not in ignoreFeatures]\n",
    "trainX = data[data['is_train'] == 1][importantFeatures]\n",
    "testX = data[data['is_test'] == 1][importantFeatures]\n",
    "x_train, x_val, y_train, y_val = train_test_split(trainX, Y, test_size=0.2, random_state=18)"
   ]
  },
  {
   "cell_type": "markdown",
   "metadata": {},
   "source": [
    "# Methos 1 with train and test split"
   ]
  },
  {
   "cell_type": "code",
   "execution_count": null,
   "metadata": {},
   "outputs": [],
   "source": [
    "#Setting model parameters \n",
    "model = XGBClassifier()\n",
    "model.set_params(n_estimators = 2000)\n",
    "model.set_params(booster='gbtree')\n",
    "model.set_params(objective = 'binary:logistic')\n",
    "model.set_params(max_depth=9)\n",
    "model.set_params(learning_rate= 0.01)\n",
    "model.set_params(gamma= 1)\n",
    "model.set_params(min_child_weight= 1)\n",
    "model.set_params(colsample_bytree= 0.8)\n",
    "model.set_params(subsample= 0.8 )\n",
    "model.set_params(reg_alpha=1)\n",
    "model.set_params(reg_alpha=1)\n",
    "model.set_params(scale_pos_weight=1)\n",
    "\n",
    "eval_set = [(x_train, y_train), (x_val, y_val)]\n",
    "model=model.fit(x_train, y_train, eval_metric=[\"error\",\"auc\"], eval_set=eval_set, verbose=True)"
   ]
  },
  {
   "cell_type": "code",
   "execution_count": null,
   "metadata": {},
   "outputs": [],
   "source": [
    "#Predict probabilities \n",
    "preds=model.predict_proba(testX)\n",
    "preds\n",
    "#Prediction \n",
    "preds = model.predict(testX)\n",
    "test_id=application_test['CUST_ID']\n",
    "sub_xgb = pd.DataFrame()\n",
    "sub_xgb['CUST_ID'] = test_id\n",
    "sub_xgb['COMMENT'] = preds\n",
    "sub_xgb.to_csv(\"Prediction.csv\", index=False)\n",
    "sub_xgb.head()"
   ]
  },
  {
   "cell_type": "code",
   "execution_count": null,
   "metadata": {},
   "outputs": [],
   "source": [
    "# retrieve performance metrics\n",
    "results = model.evals_result()\n",
    "epochs = len(results['validation_0']['auc'])\n",
    "x_axis = range(0, epochs)"
   ]
  },
  {
   "cell_type": "code",
   "execution_count": null,
   "metadata": {},
   "outputs": [],
   "source": [
    "# plot AUC from train and test set \n",
    "fig, ax = pyplot.subplots()\n",
    "ax.plot(x_axis, results['validation_0']['auc'], label='Train')\n",
    "ax.plot(x_axis, results['validation_1']['auc'], label='Test')\n",
    "ax.legend()\n",
    "pyplot.ylabel('auc error')\n",
    "pyplot.title('XGBoost auc')\n",
    "pyplot.show()"
   ]
  },
  {
   "cell_type": "code",
   "execution_count": null,
   "metadata": {},
   "outputs": [],
   "source": [
    "# plot classification error \n",
    "fig, ax = pyplot.subplots()\n",
    "ax.plot(x_axis, results['validation_0']['error'], label='Train')\n",
    "ax.plot(x_axis, results['validation_1']['error'], label='Test')\n",
    "ax.legend()\n",
    "pyplot.ylabel('classification error')\n",
    "pyplot.title('XGBoost classification error')\n",
    "pyplot.show()"
   ]
  },
  {
   "cell_type": "code",
   "execution_count": null,
   "metadata": {},
   "outputs": [],
   "source": [
    "#Model fitting with early stopping \n",
    "model = XGBClassifier()\n",
    "model.set_params(n_estimators = 1000)\n",
    "eval_set = [(x_train, y_train), (x_val, y_val)]\n",
    "model=model.fit(x_train, y_train, early_stopping_rounds=10, eval_metric=[\"error\",\"auc\"], eval_set=eval_set, verbose=True)"
   ]
  },
  {
   "cell_type": "markdown",
   "metadata": {},
   "source": [
    "# Method 2 with Cross validation (CV)"
   ]
  },
  {
   "cell_type": "code",
   "execution_count": null,
   "metadata": {},
   "outputs": [],
   "source": [
    "# 5 fold cross validation is more accurate than using a single validation set\n",
    "import random\n",
    "SEED=3\n",
    "random.seed(SEED)\n",
    "np.random.seed(SEED)\n",
    "\n",
    "features=trainX\n",
    "labels=Y\n",
    "\n",
    "cv_folds = 5\n",
    "early_stopping_rounds = 50\n",
    "model=XGBClassifier(seed = SEED )\n",
    "\n",
    "model.set_params(n_estimators = 2000)\n",
    "model.set_params(booster='gbtree')\n",
    "model.set_params(objective = 'binary:logistic')\n",
    "model.set_params(max_depth=9)\n",
    "model.set_params(learning_rate= 0.01)\n",
    "model.set_params(gamma= 1)\n",
    "model.set_params(min_child_weight= 1)\n",
    "model.set_params(colsample_bytree= 0.8)\n",
    "model.set_params(subsample= 0.8 )\n",
    "model.set_params(reg_alpha=1)\n",
    "model.set_params(reg_alpha=1)\n",
    "model.set_params(scale_pos_weight=1)\n",
    "\n",
    "xgb_param = model.get_xgb_params()\n",
    "xgtrain = xgb.DMatrix(features, label=labels)\n",
    "cvresult = xgb.cv(xgb_param, xgtrain, num_boost_round = 1000, nfold = cv_folds, metrics = 'auc', early_stopping_rounds = early_stopping_rounds, seed = SEED)"
   ]
  },
  {
   "cell_type": "code",
   "execution_count": null,
   "metadata": {},
   "outputs": [],
   "source": [
    "xgb_param"
   ]
  },
  {
   "cell_type": "markdown",
   "metadata": {},
   "source": [
    "# Tunning parameters  - Grid Search "
   ]
  },
  {
   "cell_type": "raw",
   "metadata": {},
   "source": [
    "Parameter tunning steps \n",
    "1. Max_depth and Min_child weight \n",
    "2. Gmma \n",
    "3. Number of estimators \n",
    "4. Subsample and colsample_bytree\n",
    "5. Regularization "
   ]
  },
  {
   "cell_type": "code",
   "execution_count": null,
   "metadata": {},
   "outputs": [],
   "source": [
    "#1. Tunning   max_depth and min_child weight \n",
    "\n",
    "from sklearn.grid_search import GridSearchCV\n",
    "\n",
    "model.set_params(n_estimators = 80)\n",
    "param_test1 = {\n",
    "'max_depth': [6,7,8,9,10],\n",
    "'min_child_weight': [1,2,3],\n",
    "}\n",
    "features=trainX\n",
    "labels=Y\n",
    "gsearch1 = GridSearchCV(estimator = model, param_grid = param_test1, scoring = 'roc_auc', n_jobs = 4, iid = False,verbose = 2)\n",
    "gsearch1.fit(features,labels)\n",
    "print(gsearch1.best_params_)\n",
    "print(gsearch1.best_score_)"
   ]
  },
  {
   "cell_type": "code",
   "execution_count": null,
   "metadata": {},
   "outputs": [],
   "source": [
    "#2 .Tunning gamma\n",
    "\n",
    "model.set_params(n_estimators = 80)\n",
    "model.set_params(max_depth = 3)\n",
    "model.set_params(min_child_weight = 10)\n",
    "param_test2 = {\n",
    "'gamma':[i/10.0 for i in range(0,5)]\n",
    "}\n",
    "gsearch2 = GridSearchCV(estimator = model, param_grid = param_test2, scoring = 'roc_auc',n_jobs = 4, iid = False, cv = cv_folds, verbose = 2)\n",
    "gsearch2.fit(features,labels)\n",
    "print gsearch2.best_params_\n",
    "print gsearch2.best_score_"
   ]
  },
  {
   "cell_type": "code",
   "execution_count": null,
   "metadata": {},
   "outputs": [],
   "source": [
    "#3. Gtting new optimal number of trees \n",
    "\n",
    "import random\n",
    "SEED=3\n",
    "random.seed(SEED)\n",
    "np.random.seed(SEED)\n",
    "\n",
    "features=trainX\n",
    "labels=Y\n",
    "\n",
    "cv_folds = 5\n",
    "early_stopping_rounds = 50\n",
    "model=XGBClassifier(seed = SEED )\n",
    "xgb_param = model.get_xgb_params()\n",
    "xgtrain = xgb.DMatrix(features, label=labels)\n",
    "cvresult = xgb.cv(xgb_param, xgtrain, num_boost_round = 1000, nfold = cv_folds, metrics = 'auc', early_stopping_rounds = early_stopping_rounds, seed = SEED)\n",
    "print(cvresult)\n",
    "print(\"Optimal number of trees (estimators) is %i\" % csresult.shape[0])"
   ]
  },
  {
   "cell_type": "code",
   "execution_count": null,
   "metadata": {},
   "outputs": [],
   "source": [
    "#4. Tunning subsample and colsample by tree \n",
    "\n",
    "model.set_params(n_estimators = 2000)\n",
    "model.set_params(max_depth = 10)\n",
    "model.set_params(min_child_weight = 3)\n",
    "model.set_params(gamma = 1)\n",
    "param_test3 = {\n",
    "'subsample' : [i/10.0 for i in range(6,11)],\n",
    "'colsample_bytree' : [i/10.0 for i in range(6,11)]\n",
    "}\n",
    "gsearch3 = GridSearchCV(estimator = model, param_grid = param_test3, scoring = 'roc_auc',n_jobs = 4, iid = False, cv =5, verbose = 2)\n",
    "gsearch3.fit(features,labels)\n",
    "print(gsearch3.best_params_)\n",
    "print (gsearch3.best_score_)"
   ]
  },
  {
   "cell_type": "code",
   "execution_count": null,
   "metadata": {},
   "outputs": [],
   "source": [
    "#5. Tunning regularization parameter \n",
    "\n",
    "model.set_params(n_estimators = 108)\n",
    "model.set_params(max_depth = 2)\n",
    "model.set_params(min_child_weight = 1)\n",
    "model.set_params(subsample=0.9)\n",
    "model.set_params(colsample_bytree=0.6)\n",
    "param_test4 = {\n",
    "'reg_alpha':[1e-5, 1e-2, 0.1, 1, 100]\n",
    "}\n",
    "gsearch4 = GridSearchCV(estimator = model, param_grid = param_test4, scoring = 'roc_auc',n_jobs = 4, iid = False, cv = cv_folds, verbose = 2)\n",
    "gsearch4.fit(features,labels)\n",
    "print gsearch4.best_params_\n",
    "print gsearch4.best_score_"
   ]
  },
  {
   "cell_type": "code",
   "execution_count": null,
   "metadata": {},
   "outputs": [],
   "source": [
    "print(model.feature_importances_)\n",
    "plot_importance(model)\n",
    "pyplot.show()"
   ]
  },
  {
   "cell_type": "code",
   "execution_count": null,
   "metadata": {},
   "outputs": [],
   "source": [
    "from xgboost import plot_tree\n",
    "import graphviz\n",
    "# plot single tree\n",
    "#plot_tree(model)\n",
    "#plt.show()\n",
    "plot_tree(model, num_trees=0, rankdir='LR')"
   ]
  },
  {
   "cell_type": "markdown",
   "metadata": {},
   "source": [
    "# Tunning parameters - Random Search "
   ]
  },
  {
   "cell_type": "code",
   "execution_count": null,
   "metadata": {},
   "outputs": [],
   "source": [
    "#Random search \n",
    "def randomsearch_xgboost(df):\n",
    "        param_distributions={'max_depth': sp.stats.randint(1, 11),\n",
    "                             'subsample': sp.stats.uniform(0.25, 0.75),\n",
    "                             'colsample_bytree': sp.stats.uniform(0.25, 0.75)\n",
    "        }\n",
    "        xgb_model = XGBClassifier()\n",
    "        rs = RandomizedSearchCV(xgb_model,\n",
    "                                param_distributions,\n",
    "                                cv=10,\n",
    "                                n_iter=20,\n",
    "                                scoring=\"log_loss\",\n",
    "                                n_jobs=1,\n",
    "                                verbose=2)\n",
    "        rs.fit(train_X, train_y.transpose()[0]) \n",
    "        predict = rs.predict_proba(test_X)\n",
    "        return predict[:, 1]"
   ]
  }
 ],
 "metadata": {
  "kernelspec": {
   "display_name": "Python 3",
   "language": "python",
   "name": "python3"
  },
  "language_info": {
   "codemirror_mode": {
    "name": "ipython",
    "version": 3
   },
   "file_extension": ".py",
   "mimetype": "text/x-python",
   "name": "python",
   "nbconvert_exporter": "python",
   "pygments_lexer": "ipython3",
   "version": "3.6.4"
  }
 },
 "nbformat": 4,
 "nbformat_minor": 2
}
