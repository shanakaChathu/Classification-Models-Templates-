{
 "cells": [
  {
   "cell_type": "code",
   "execution_count": null,
   "metadata": {},
   "outputs": [],
   "source": [
    "import pandas as pd\n",
    "import numpy as np \n",
    "import matplotlib.pyplot as plt\n",
    "import seaborn as sns \n",
    "color = sns.color_palette()\n",
    "import plotly.offline as py\n",
    "py.init_notebook_mode(connected=True)\n",
    "from plotly.offline import init_notebook_mode, iplot\n",
    "init_notebook_mode(connected=True)\n",
    "import plotly.graph_objs as go\n",
    "import plotly.offline as offline\n",
    "offline.init_notebook_mode()\n",
    "\n",
    "from sklearn.model_selection import train_test_split \n",
    "import lightgbm as lgb\n",
    "\n",
    "import cufflinks as cf\n",
    "cf.go_offline()\n",
    "\n",
    "import xgboost as xgb \n"
   ]
  },
  {
   "cell_type": "code",
   "execution_count": null,
   "metadata": {},
   "outputs": [],
   "source": [
    "#Load the tran and test dataframes \n",
    "\n",
    "lp=pd.read_csv(\"lp.csv\")\n",
    "fb=pd.read.csv(\"feedback.csv\")\n",
    "\n",
    "application_train = lp.merge(right=fb.reset_index(drop=True), how='inner', on='CUST_ID')\n",
    "application_train\n",
    "\n",
    "application_test=lp[(~lp.col1.isin(application_train.CUST_ID))]\n",
    "application_test"
   ]
  },
  {
   "cell_type": "code",
   "execution_count": null,
   "metadata": {},
   "outputs": [],
   "source": [
    "#Features dataframe using train and test set \n",
    "def featuresDF(df_train,df_test,target):\n",
    "    training=df_train\n",
    "    testing=df_test\n",
    "\n",
    "    training['is_train']=1\n",
    "    training['is_test']=0\n",
    "    testing['is_train']=0\n",
    "    testing['is_test']=1\n",
    "    \n",
    "    train_X=training.drop([target],axis=1)\n",
    "    test_X=testing\n",
    "    data=pd.concat([train_X,test_X],axis=0)\n",
    "    return data\n",
    "data=featuresDF(application_train,application_test,\"Comment\")"
   ]
  },
  {
   "cell_type": "code",
   "execution_count": null,
   "metadata": {},
   "outputs": [],
   "source": [
    "#Target variable extraction \n",
    "def target(df_train,target):\n",
    "    training=df_train\n",
    "    Y=training[target]\n",
    "    return Y\n",
    "    \n",
    "Y=target(application_train,'TARGET')"
   ]
  },
  {
   "cell_type": "code",
   "execution_count": null,
   "metadata": {},
   "outputs": [],
   "source": [
    "#Function to capture numerical variables \n",
    "def _get_numerical_features(df):\n",
    "    feats=[col for col in list(df.columns) if df[col].dtype!='object']\n",
    "    return feats \n",
    "numFeatures=_get_numerical_features(data)"
   ]
  },
  {
   "cell_type": "code",
   "execution_count": null,
   "metadata": {},
   "outputs": [],
   "source": [
    "#Function to capture categorical variables \n",
    "def _get_categorical_features(df):\n",
    "    feats=[col for col in list(df.columns) if df[col].dtype=='object']\n",
    "    return feats \n",
    "cats=_get_categorical_features(data)"
   ]
  },
  {
   "cell_type": "code",
   "execution_count": null,
   "metadata": {},
   "outputs": [],
   "source": [
    "#Function to factorize categorical variables \n",
    "def _factorize_categoricals(df, cats):\n",
    "    for col in cats:\n",
    "        df[col], _ = pd.factorize(df[col])\n",
    "    return df \n",
    "#data=_factorize_categoricals(data,cats)"
   ]
  },
  {
   "cell_type": "code",
   "execution_count": null,
   "metadata": {},
   "outputs": [],
   "source": [
    "#Function to convert categorical variables into dummy variables \n",
    "def _get_dummies(df,cats):\n",
    "    for col in cats:\n",
    "         df = pd.concat([df, pd.get_dummies(df[col], prefix=col)], axis=1)\n",
    "    return df\n",
    "#data=_get_dummies(data,cats)"
   ]
  },
  {
   "cell_type": "code",
   "execution_count": null,
   "metadata": {},
   "outputs": [],
   "source": [
    "#Doing factorize or dummy variable encoding \n",
    "def encoding(df,flag):\n",
    "    data_cats = _get_categorical_features(df)\n",
    "    if(flag==1):\n",
    "        df = _factorize_categoricals(df,data_cats)\n",
    "    else:\n",
    "        df=_get_dummies(df,data_cats)\n",
    "        df=df.drop(data_cats,axis=1)\n",
    "    return df\n",
    "data=encoding(data,0)"
   ]
  },
  {
   "cell_type": "code",
   "execution_count": null,
   "metadata": {},
   "outputs": [],
   "source": [
    "#Missing values Analysis \n",
    "def missingValuesAnalysis(data):\n",
    "    total = data.isnull().sum().sort_values(ascending = False)\n",
    "    percent = (data.isnull().sum()/data.isnull().count()*100).sort_values(ascending = False)\n",
    "    return pd.concat([total, percent], axis=1, keys=['Total', 'Percent'])\n",
    "df=missingValuesAnalysis(data)\n",
    "print(df)"
   ]
  },
  {
   "cell_type": "code",
   "execution_count": null,
   "metadata": {},
   "outputs": [],
   "source": [
    "#Missing values handling \n",
    "\n",
    "data1=data.iloc[:,:].values #This only contain values (not headers) . Objective of this is to convet data frame into matrix\n",
    "#in order to aply imputation and standerdization. \n",
    "\n",
    "numInd=_get_numerical_features(data)\n",
    "catInd=_get_categorical_features(data)\n",
    "\n",
    "numImputer = Imputer(missing_values ='NaN', strategy='median', axis=0)\n",
    "numImputer= numImputer.fit(data1[:,(numInd)])\n",
    "data1[:,(numInd)]=numImputer.transform(data1[:,(numInd)])\n",
    "\n",
    "catImputer = Imputer(missing_values = 'NaN', strategy = 'most_frequent', axis =0)\n",
    "catImputer=catImputer.fit(data1[:,(catInd)])\n",
    "data1[:,(catInd)]=catImputer.transform(data1[:,(catInd)])\n",
    "\n",
    "#Standerdizing \n",
    "min_max_scaler = preprocessing.MinMaxScaler()\n",
    "data1[:,(numInd)] = min_max_scaler.fit_transform(data1[:,(numInd)])\n",
    "\n",
    "data=pd.DataFrame(data=data1[0:,0:],columns=data.columns.values)\n"
   ]
  },
  {
   "cell_type": "code",
   "execution_count": null,
   "metadata": {},
   "outputs": [],
   "source": [
    "#Splitting into train and test set \n",
    "ignoreFeatures = ['CUST_ID', 'is_train', 'is_test']\n",
    "importantFeatures = [col for col in data.columns if col not in ignoreFeatures]\n",
    "trainX = data[data['is_train'] == 1][importantFeatures]\n",
    "testX = data[data['is_test'] == 1][importantFeatures]\n",
    "x_train, x_val, y_train, y_val = train_test_split(trainX, Y, test_size=0.2, random_state=18)"
   ]
  },
  {
   "cell_type": "markdown",
   "metadata": {},
   "source": [
    "#  Method 1 with train and test split "
   ]
  },
  {
   "cell_type": "code",
   "execution_count": null,
   "metadata": {},
   "outputs": [],
   "source": [
    "model1 = RandomForestClassifier()\n",
    "model1=model1.fit(x_train,y_train)    "
   ]
  },
  {
   "cell_type": "code",
   "execution_count": null,
   "metadata": {},
   "outputs": [],
   "source": [
    "predictions1 = model1.predict(x_val)"
   ]
  },
  {
   "cell_type": "code",
   "execution_count": null,
   "metadata": {},
   "outputs": [],
   "source": [
    "print \"Train Accuracy :: \", accuracy_score(y_train,model1.predict(x_train))\n",
    "print \"Test Accuracy  :: \", accuracy_score(y_val, predictions1)\n",
    "print \" Confusion matrix \", confusion_matrix(y_val, predictions1)"
   ]
  },
  {
   "cell_type": "code",
   "execution_count": null,
   "metadata": {},
   "outputs": [],
   "source": [
    "#Prediction \n",
    "preds1 = model1.predict(testX)\n",
    "test_id=application_test['CUST_ID']\n",
    "sub_RF1 = pd.DataFrame()\n",
    "sub_RF1['CUST_ID'] = test_id\n",
    "sub_RF1['COMMENT'] = preds1\n",
    "sub_RF1.to_csv(\"Prediction_RF1.csv\", index=False)\n",
    "sub_RF1.head()"
   ]
  },
  {
   "cell_type": "markdown",
   "metadata": {},
   "source": [
    "#  Method 2 with cross validation method-Random search "
   ]
  },
  {
   "cell_type": "code",
   "execution_count": 8,
   "metadata": {},
   "outputs": [],
   "source": [
    "from sklearn.ensemble import RandomForestClassifier\n",
    "from pprint import pprint\n",
    "from sklearn.model_selection import RandomizedSearchCV\n",
    "import numpy as np\n",
    "import pandas as pd"
   ]
  },
  {
   "cell_type": "code",
   "execution_count": 5,
   "metadata": {},
   "outputs": [
    {
     "name": "stdout",
     "output_type": "stream",
     "text": [
      "Parameters currently in use:\n",
      "\n",
      "{'bootstrap': True,\n",
      " 'class_weight': None,\n",
      " 'criterion': 'gini',\n",
      " 'max_depth': None,\n",
      " 'max_features': 'auto',\n",
      " 'max_leaf_nodes': None,\n",
      " 'min_impurity_decrease': 0.0,\n",
      " 'min_impurity_split': None,\n",
      " 'min_samples_leaf': 1,\n",
      " 'min_samples_split': 2,\n",
      " 'min_weight_fraction_leaf': 0.0,\n",
      " 'n_estimators': 10,\n",
      " 'n_jobs': 1,\n",
      " 'oob_score': False,\n",
      " 'random_state': 42,\n",
      " 'verbose': 0,\n",
      " 'warm_start': False}\n"
     ]
    }
   ],
   "source": [
    "# Look at parameters used by our current forest\n",
    "model2= RandomForestClassifier(random_state = 42)\n",
    "print('Parameters currently in use:\\n')\n",
    "pprint(model2.get_params())"
   ]
  },
  {
   "cell_type": "raw",
   "metadata": {},
   "source": [
    "Note:  Important parameters to tune \n",
    "------------------------------\n",
    "Most important settings are the number of trees in the forest (n_estimators) and the number of features considered for splitting at each leaf node (max_features). "
   ]
  },
  {
   "cell_type": "code",
   "execution_count": 10,
   "metadata": {},
   "outputs": [
    {
     "name": "stdout",
     "output_type": "stream",
     "text": [
      "{'bootstrap': [True, False],\n",
      " 'max_depth': [10, 20, 30, 40, 50, 60, 70, 80, 90, 100, 110, None],\n",
      " 'max_features': ['auto', 'sqrt'],\n",
      " 'min_samples_leaf': [1, 2, 4],\n",
      " 'min_samples_split': [2, 5, 10],\n",
      " 'n_estimators': [200, 400, 600, 800, 1000, 1200, 1400, 1600, 1800, 2000]}\n"
     ]
    }
   ],
   "source": [
    "# Number of trees in random forest\n",
    "n_estimators = [int(x) for x in np.linspace(start = 200, stop = 2000, num = 10)]\n",
    "# Number of features to consider at every split\n",
    "max_features = ['auto', 'sqrt']\n",
    "# Maximum number of levels in tree\n",
    "max_depth = [int(x) for x in np.linspace(10, 110, num = 11)]\n",
    "max_depth.append(None)\n",
    "# Minimum number of samples required to split a node\n",
    "min_samples_split = [2, 5, 10]\n",
    "# Minimum number of samples required at each leaf node\n",
    "min_samples_leaf = [1, 2, 4]\n",
    "# Method of selecting samples for training each tree\n",
    "bootstrap = [True, False]\n",
    "\n",
    "random_grid = {'n_estimators': n_estimators,\n",
    "               'max_features': max_features,\n",
    "               'max_depth': max_depth,\n",
    "               'min_samples_split': min_samples_split,\n",
    "               'min_samples_leaf': min_samples_leaf,\n",
    "               'bootstrap': bootstrap}\n",
    "pprint(random_grid)"
   ]
  },
  {
   "cell_type": "code",
   "execution_count": 12,
   "metadata": {},
   "outputs": [],
   "source": [
    "# Use the random grid to search for best hyperparameters\n",
    "# First create the base model to tune\n",
    "model2 = RandomForestClassifier()\n",
    "# Random search of parameters, using 3 fold cross validation, \n",
    "# search across 100 different combinations, and use all available cores\n",
    "model2_random = RandomizedSearchCV(estimator = model2, param_distributions = random_grid, n_iter = 100, cv = 3, verbose=2, random_state=42, n_jobs = -1)\n",
    "# Fit the random search model\n",
    "model2_random.fit(train_x,train_y)"
   ]
  },
  {
   "cell_type": "code",
   "execution_count": null,
   "metadata": {},
   "outputs": [],
   "source": [
    "#Getting best parameters \n",
    "model2_random.best_params_"
   ]
  },
  {
   "cell_type": "code",
   "execution_count": null,
   "metadata": {},
   "outputs": [],
   "source": [
    "#Evaluation of model  \n",
    "best_random = model2_random.best_estimator_\n",
    "predictions2 = best_random.predict(x_val)\n",
    "print \"Train Accuracy :: \", accuracy_score(y_train,best_random.predict(x_train))\n",
    "print \"Test Accuracy  :: \", accuracy_score(y_val, predictions2)\n",
    "print \" Confusion matrix \", confusion_matrix(y_val, predictions2)"
   ]
  },
  {
   "cell_type": "code",
   "execution_count": null,
   "metadata": {},
   "outputs": [],
   "source": [
    "#Prediction \n",
    "preds2 = best_random.predict(testX)\n",
    "test_id=application_test['CUST_ID']\n",
    "sub_RF2 = pd.DataFrame()\n",
    "sub_RF2['CUST_ID'] = test_id\n",
    "sub_RF2['COMMENT'] = preds2\n",
    "sub_RF2.to_csv(\"Prediction_RF2.csv\", index=False)\n",
    "sub_RF2.head()"
   ]
  },
  {
   "cell_type": "markdown",
   "metadata": {},
   "source": [
    "# Method 3 with cross validation method-Grid search "
   ]
  },
  {
   "cell_type": "code",
   "execution_count": null,
   "metadata": {},
   "outputs": [],
   "source": [
    "from sklearn.model_selection import GridSearchCV"
   ]
  },
  {
   "cell_type": "code",
   "execution_count": null,
   "metadata": {},
   "outputs": [],
   "source": [
    "# Create the parameter grid based on the results of random search \n",
    "param_grid = {\n",
    "    'bootstrap': [True],\n",
    "    'max_depth': [80, 90, 100, 110],\n",
    "    'max_features': [2, 3],\n",
    "    'min_samples_leaf': [3, 4, 5],\n",
    "    'min_samples_split': [8, 10, 12],\n",
    "    'n_estimators': [100, 200, 300, 1000]\n",
    "}\n",
    "# Create a based model\n",
    "model3 = RandomForestClassifier()\n",
    "# Instantiate the grid search model\n",
    "grid_search = GridSearchCV(estimator = model3, param_grid = param_grid, cv = 3, n_jobs = -1, verbose = 2)"
   ]
  },
  {
   "cell_type": "code",
   "execution_count": null,
   "metadata": {},
   "outputs": [],
   "source": [
    "#Getting best parameters \n",
    "grid_search.best_params_"
   ]
  },
  {
   "cell_type": "code",
   "execution_count": null,
   "metadata": {},
   "outputs": [],
   "source": [
    "#Evaluation of model  \n",
    "best_grid = grid_search.best_estimator_\n",
    "predictions3 = best_grid.predict(x_val)\n",
    "print \"Train Accuracy :: \", accuracy_score(y_train,best_grid.predict(x_train))\n",
    "print \"Test Accuracy  :: \", accuracy_score(y_val, predictions3)\n",
    "print \" Confusion matrix \", confusion_matrix(y_val, predictions3)"
   ]
  },
  {
   "cell_type": "code",
   "execution_count": null,
   "metadata": {},
   "outputs": [],
   "source": [
    "#Prediction \n",
    "preds3 = best_grid.predict(testX)\n",
    "test_id=application_test['CUST_ID']\n",
    "sub_RF3 = pd.DataFrame()\n",
    "sub_RF3['CUST_ID'] = test_id\n",
    "sub_RF3['COMMENT'] = preds3\n",
    "sub_RF3.to_csv(\"Prediction_RF3.csv\", index=False)\n",
    "sub_RF3.head()"
   ]
  }
 ],
 "metadata": {
  "kernelspec": {
   "display_name": "Python 3",
   "language": "python",
   "name": "python3"
  },
  "language_info": {
   "codemirror_mode": {
    "name": "ipython",
    "version": 3
   },
   "file_extension": ".py",
   "mimetype": "text/x-python",
   "name": "python",
   "nbconvert_exporter": "python",
   "pygments_lexer": "ipython3",
   "version": "3.6.4"
  }
 },
 "nbformat": 4,
 "nbformat_minor": 2
}
