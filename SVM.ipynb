{
 "cells": [
  {
   "cell_type": "code",
   "execution_count": null,
   "metadata": {},
   "outputs": [],
   "source": [
    "import pandas as pd\n",
    "import numpy as np \n",
    "import matplotlib.pyplot as plt\n",
    "import seaborn as sns \n",
    "color = sns.color_palette()\n",
    "import plotly.offline as py\n",
    "py.init_notebook_mode(connected=True)\n",
    "from plotly.offline import init_notebook_mode, iplot\n",
    "init_notebook_mode(connected=True)\n",
    "import plotly.graph_objs as go\n",
    "import plotly.offline as offline\n",
    "offline.init_notebook_mode()\n",
    "\n",
    "from sklearn.model_selection import train_test_split \n",
    "import lightgbm as lgb\n",
    "from sklearn.svm import SVC  \n",
    "from sklearn.metrics import classification_report, confusion_matrix  \n",
    "\n",
    "import cufflinks as cf\n",
    "cf.go_offline()\n",
    "\n",
    "import xgboost as xgb \n"
   ]
  },
  {
   "cell_type": "code",
   "execution_count": null,
   "metadata": {},
   "outputs": [],
   "source": [
    "#Load the tran and test dataframes \n",
    "application_train=\n",
    "application_test="
   ]
  },
  {
   "cell_type": "code",
   "execution_count": null,
   "metadata": {},
   "outputs": [],
   "source": [
    "#Features dataframe using train and test set \n",
    "def featuresDF(df_train,df_test,target):\n",
    "    training=df_train\n",
    "    testing=df_test\n",
    "\n",
    "    training['is_train']=1\n",
    "    training['is_test']=0\n",
    "    testing['is_train']=0\n",
    "    testing['is_test']=1\n",
    "    \n",
    "    train_X=training.drop([target],axis=1)\n",
    "    test_X=testing\n",
    "    data=pd.concat([train_X,test_X],axis=0)\n",
    "    return data\n",
    "data=featuresDF(application_train,application_test,\"Comment\")"
   ]
  },
  {
   "cell_type": "code",
   "execution_count": null,
   "metadata": {},
   "outputs": [],
   "source": [
    "#Target variable extraction \n",
    "def target(df_train,target):\n",
    "    training=df_train\n",
    "    Y=training[target]\n",
    "    return Y\n",
    "    \n",
    "Y=target(application_train,'TARGET')"
   ]
  },
  {
   "cell_type": "code",
   "execution_count": null,
   "metadata": {},
   "outputs": [],
   "source": [
    "#Missing values Analysis \n",
    "def missingValuesAnalysis(data):\n",
    "    total = data.isnull().sum().sort_values(ascending = False)\n",
    "    percent = (data.isnull().sum()/data.isnull().count()*100).sort_values(ascending = False)\n",
    "    return pd.concat([total, percent], axis=1, keys=['Total', 'Percent'])\n",
    "df=missingValuesAnalysis(application_train)"
   ]
  },
  {
   "cell_type": "code",
   "execution_count": null,
   "metadata": {},
   "outputs": [],
   "source": [
    "#Function to capture numerical variables \n",
    "def _get_numerical_features(df):\n",
    "    feats=[col for col in list(df.columns) if df[col].dtype!='object']\n",
    "    return feats \n",
    "numFeatures=_get_numerical_features(data)"
   ]
  },
  {
   "cell_type": "code",
   "execution_count": null,
   "metadata": {},
   "outputs": [],
   "source": [
    "#Function to capture categorical variables \n",
    "def _get_categorical_features(df):\n",
    "    feats=[col for col in list(df.columns) if df[col].dtype=='object']\n",
    "    return feats \n",
    "cats=_get_categorical_features(data)"
   ]
  },
  {
   "cell_type": "code",
   "execution_count": null,
   "metadata": {},
   "outputs": [],
   "source": [
    "#Function to factorize categorical variables \n",
    "def _factorize_categoricals(df, cats):\n",
    "    for col in cats:\n",
    "        df[col], _ = pd.factorize(df[col])\n",
    "    return df \n",
    "#data=_factorize_categoricals(data,cats)"
   ]
  },
  {
   "cell_type": "code",
   "execution_count": null,
   "metadata": {},
   "outputs": [],
   "source": [
    "#Function to convert categorical variables into dummy variables \n",
    "def _get_dummies(df,cats):\n",
    "    for col in cats:\n",
    "         df = pd.concat([df, pd.get_dummies(df[col], prefix=col)], axis=1)\n",
    "    return df\n",
    "#data=_get_dummies(data,cats)"
   ]
  },
  {
   "cell_type": "code",
   "execution_count": null,
   "metadata": {},
   "outputs": [],
   "source": [
    "#Doing factorize or dummy variable encoding \n",
    "def encoding(df,flag):\n",
    "    data_cats = _get_categorical_features(df)\n",
    "    if(flag==1):\n",
    "        df = _factorize_categoricals(df,data_cats)\n",
    "    else:\n",
    "        df=_get_dummies(df,data_cats)\n",
    "        df=df.drop(data_cats,axis=1)\n",
    "    return df\n",
    "data=encoding(data,0)"
   ]
  },
  {
   "cell_type": "code",
   "execution_count": null,
   "metadata": {},
   "outputs": [],
   "source": [
    "ignoreFeatures = ['CUST_ID']\n",
    "importantFeatures = [col for col in data.columns if col not in ignoreFeatures]"
   ]
  },
  {
   "cell_type": "code",
   "execution_count": null,
   "metadata": {},
   "outputs": [],
   "source": [
    "#Splitting into train and test set \n",
    "ignoreFeatures = ['CUST_ID', 'is_train', 'is_test']\n",
    "importantFeatures = [col for col in data.columns if col not in ignoreFeatures]\n",
    "trainX = data[data['is_train'] == 1][importantFeatures]\n",
    "testX = data[data['is_test'] == 1][importantFeatures]\n",
    "x_train, x_val, y_train, y_val = train_test_split(trainX, Y, test_size=0.2, random_state=18)"
   ]
  },
  {
   "cell_type": "markdown",
   "metadata": {},
   "source": [
    "# Methos 1 with Linerar kernal"
   ]
  },
  {
   "cell_type": "code",
   "execution_count": null,
   "metadata": {},
   "outputs": [],
   "source": [
    "svclassifier = SVC(kernel='linear')  \n",
    "svclassifier.fit(x_train, y_train)  "
   ]
  },
  {
   "cell_type": "code",
   "execution_count": null,
   "metadata": {},
   "outputs": [],
   "source": [
    "y_pred = svclassifier.predict(x_val)  "
   ]
  },
  {
   "cell_type": "code",
   "execution_count": null,
   "metadata": {},
   "outputs": [],
   "source": [
    "print(confusion_matrix(y_val,y_pred))  \n",
    "print(classification_report(y_val,y_pred))  "
   ]
  },
  {
   "cell_type": "code",
   "execution_count": null,
   "metadata": {},
   "outputs": [],
   "source": [
    "preds=svclassifier.predict(testX)  \n",
    "test_id=application_test['CUST_ID']\n",
    "sub_svm = pd.DataFrame()\n",
    "sub_svm['CUST_ID'] = test_id\n",
    "sub_svm['COMMENT'] = preds\n",
    "sub_svm.to_csv(\"Prediction.csv\", index=False)\n",
    "sub_svm.head()"
   ]
  },
  {
   "cell_type": "markdown",
   "metadata": {},
   "source": [
    "# Methos 2 with Ploynomial kernal"
   ]
  },
  {
   "cell_type": "code",
   "execution_count": null,
   "metadata": {},
   "outputs": [],
   "source": [
    "svclassifier = SVC(kernel='poly', degree=8)  \n",
    "svclassifier.fit(x_train, y_train)  "
   ]
  },
  {
   "cell_type": "code",
   "execution_count": null,
   "metadata": {},
   "outputs": [],
   "source": [
    "y_pred = svclassifier.predict(x_val)  "
   ]
  },
  {
   "cell_type": "code",
   "execution_count": null,
   "metadata": {},
   "outputs": [],
   "source": [
    "print(confusion_matrix(y_val, y_pred))  \n",
    "print(classification_report(y_val, y_pred))  "
   ]
  },
  {
   "cell_type": "code",
   "execution_count": null,
   "metadata": {},
   "outputs": [],
   "source": [
    "preds=svclassifier.predict(testX)  \n",
    "test_id=application_test['CUST_ID']\n",
    "sub_svm = pd.DataFrame()\n",
    "sub_svm['CUST_ID'] = test_id\n",
    "sub_svm['COMMENT'] = preds\n",
    "sub_svm.to_csv(\"Prediction.csv\", index=False)\n",
    "sub_svm.head()"
   ]
  },
  {
   "cell_type": "markdown",
   "metadata": {},
   "source": [
    "# Try sigmoid and gaussian kernal "
   ]
  }
 ],
 "metadata": {
  "kernelspec": {
   "display_name": "Python 3",
   "language": "python",
   "name": "python3"
  },
  "language_info": {
   "codemirror_mode": {
    "name": "ipython",
    "version": 3
   },
   "file_extension": ".py",
   "mimetype": "text/x-python",
   "name": "python",
   "nbconvert_exporter": "python",
   "pygments_lexer": "ipython3",
   "version": "3.6.4"
  }
 },
 "nbformat": 4,
 "nbformat_minor": 2
}
